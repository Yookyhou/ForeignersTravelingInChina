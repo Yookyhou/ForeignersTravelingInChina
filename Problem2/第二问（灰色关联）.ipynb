{
 "cells": [
  {
   "cell_type": "code",
   "execution_count": 1,
   "id": "initial_id",
   "metadata": {
    "collapsed": true,
    "ExecuteTime": {
     "end_time": "2024-08-05T05:13:16.882490Z",
     "start_time": "2024-08-05T05:13:16.363777Z"
    }
   },
   "outputs": [],
   "source": [
    "import pandas as pd\n",
    "\n",
    "file_path = 'merged_with_filenames.csv'\n",
    "df = pd.read_csv(file_path)\n",
    "\n",
    "# 移除 'File Name' 列中包含缺失值的行\n",
    "df = df.dropna(subset=['File Name'])\n",
    "\n",
    "# 检查评分列的数据类型并进行转换\n",
    "df['评分'] = pd.to_numeric(df['评分'], errors='coerce')\n",
    "\n",
    "# 移除 '评分' 列中包含缺失值的行\n",
    "df = df.dropna(subset=['评分'])\n",
    "\n",
    "# 每个 'File Name' 中评分最高的行\n",
    "max_score_df = df.loc[df.groupby('File Name')['评分'].idxmax()]\n",
    "\n",
    "output_path = '城市最佳景点游览原则.csv'\n",
    "max_score_df.to_csv(output_path, index=False)\n"
   ]
  },
  {
   "cell_type": "code",
   "outputs": [],
   "source": [
    "csv_file_path = '城市最佳景点游览原则.csv'\n",
    "excel_file_path = 'C题最终版数据集.xlsx'\n",
    "\n",
    "scenic_data = pd.read_csv(csv_file_path)\n",
    "\n",
    "city_attributes_data = pd.read_excel(excel_file_path)\n",
    "\n",
    "# 合并景点数据和城市属性数据\n",
    "merged_data = pd.merge(scenic_data, city_attributes_data, left_on='File Name', right_on='来源城市')\n",
    "\n",
    "output_path = '各城市指标最终版.csv'\n",
    "merged_data.to_csv(output_path, index=False)\n"
   ],
   "metadata": {
    "collapsed": false,
    "ExecuteTime": {
     "end_time": "2024-08-05T05:13:17.024278Z",
     "start_time": "2024-08-05T05:13:16.883529Z"
    }
   },
   "id": "95e9d1dea20be1ac",
   "execution_count": 2
  },
  {
   "cell_type": "code",
   "outputs": [],
   "source": [
    "import numpy as np\n",
    "import pandas as pd\n",
    "from sklearn.preprocessing import MinMaxScaler\n",
    "\n",
    "# 读取数据\n",
    "city_indicators_path = '各城市指标最终版.csv'\n",
    "city_indicators_data = pd.read_csv(city_indicators_path)\n",
    "\n",
    "# 标准化数据\n",
    "attributes = [\n",
    "    'AQI', '绿化覆盖率 (%)', '废水处理率 (%)', '废气处理率 (%)', '垃圾分类处理率 (%)', \n",
    "    '历史遗迹数量', '博物馆数量', '文化活动频次', '文化设施数量', '公共交通覆盖率 (%)', \n",
    "    '线路密度 (km/km²)', '高速公路里程 (km)', '机场航班数量', '年平均气温 (℃)', \n",
    "    '年降水量 (mm)', '适宜旅游天数', '空气湿度 (%)', '餐馆数量', '特色美食数量', '美食活动频次'\n",
    "]\n",
    "scaler = MinMaxScaler()\n",
    "city_indicators_data[attributes] = scaler.fit_transform(city_indicators_data[attributes])\n",
    "\n",
    "reference_sequence = np.ones(city_indicators_data[attributes].shape[1])\n",
    "\n",
    "# 计算灰色关联系数\n",
    "def grey_relational_coefficient(sequence, reference_sequence, rho=0.5):\n",
    "    min_diff = np.min(np.abs(sequence - reference_sequence))\n",
    "    max_diff = np.max(np.abs(sequence - reference_sequence))\n",
    "    return (min_diff + rho * max_diff) / (np.abs(sequence - reference_sequence) + rho * max_diff)\n",
    "\n",
    "# 计算灰色关联度\n",
    "def grey_relational_grade(data, reference_sequence):\n",
    "    return data.apply(lambda row: np.mean(grey_relational_coefficient(row.values, reference_sequence)), axis=1)\n",
    "\n",
    "# 计算每个城市的灰色关联度\n",
    "city_indicators_data['灰色关联度'] = grey_relational_grade(city_indicators_data[attributes], reference_sequence)\n",
    "\n",
    "# 根据灰色关联度排序并选择前50个城市\n",
    "top_50_cities = city_indicators_data.sort_values(by='灰色关联度', ascending=False).head(50)\n",
    "\n",
    "output_path = '最令外国游客向往的50个城市（灰色关联）最终版.csv'\n",
    "top_50_cities.to_csv(output_path, index=False)\n"
   ],
   "metadata": {
    "collapsed": false,
    "ExecuteTime": {
     "end_time": "2024-08-05T05:13:17.301512Z",
     "start_time": "2024-08-05T05:13:17.024852Z"
    }
   },
   "id": "fa116b22aa1c762",
   "execution_count": 3
  }
 ],
 "metadata": {
  "kernelspec": {
   "display_name": "Python 3",
   "language": "python",
   "name": "python3"
  },
  "language_info": {
   "codemirror_mode": {
    "name": "ipython",
    "version": 2
   },
   "file_extension": ".py",
   "mimetype": "text/x-python",
   "name": "python",
   "nbconvert_exporter": "python",
   "pygments_lexer": "ipython2",
   "version": "2.7.6"
  }
 },
 "nbformat": 4,
 "nbformat_minor": 5
}
